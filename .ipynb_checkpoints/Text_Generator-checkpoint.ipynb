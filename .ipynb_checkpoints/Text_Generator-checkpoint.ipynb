{
 "cells": [
  {
   "cell_type": "markdown",
   "id": "7848627d",
   "metadata": {},
   "source": [
    "# Text_Generator_Project"
   ]
  },
  {
   "cell_type": "code",
   "execution_count": 156,
   "id": "76774812",
   "metadata": {},
   "outputs": [],
   "source": [
    "# Install Packages\n",
    "!pip install -q openai\n",
    "!pip install -q python-dotenv"
   ]
  },
  {
   "cell_type": "code",
   "execution_count": 208,
   "id": "b0ff5e15",
   "metadata": {},
   "outputs": [
    {
     "data": {
      "text/plain": [
       "True"
      ]
     },
     "execution_count": 208,
     "metadata": {},
     "output_type": "execute_result"
    }
   ],
   "source": [
    "import os\n",
    "import openai\n",
    "import csv\n",
    "import requests\n",
    "import pandas as pd\n",
    "import matplotlib.pyplot as plt\n",
    "from dotenv import load_dotenv\n",
    "load_dotenv()"
   ]
  },
  {
   "cell_type": "code",
   "execution_count": 209,
   "id": "70d1ecf6",
   "metadata": {
    "scrolled": false
   },
   "outputs": [
    {
     "data": {
      "text/html": [
       "<div>\n",
       "<style scoped>\n",
       "    .dataframe tbody tr th:only-of-type {\n",
       "        vertical-align: middle;\n",
       "    }\n",
       "\n",
       "    .dataframe tbody tr th {\n",
       "        vertical-align: top;\n",
       "    }\n",
       "\n",
       "    .dataframe thead th {\n",
       "        text-align: right;\n",
       "    }\n",
       "</style>\n",
       "<table border=\"1\" class=\"dataframe\">\n",
       "  <thead>\n",
       "    <tr style=\"text-align: right;\">\n",
       "      <th></th>\n",
       "      <th>Daily Time Spent on Site</th>\n",
       "      <th>Age</th>\n",
       "      <th>Area Income</th>\n",
       "      <th>Daily Internet Usage</th>\n",
       "      <th>Ad Topic Line</th>\n",
       "      <th>City</th>\n",
       "      <th>Male</th>\n",
       "      <th>Country</th>\n",
       "      <th>Timestamp</th>\n",
       "      <th>Clicked on Ad</th>\n",
       "    </tr>\n",
       "  </thead>\n",
       "  <tbody>\n",
       "    <tr>\n",
       "      <th>0</th>\n",
       "      <td>68.95</td>\n",
       "      <td>35</td>\n",
       "      <td>61833.90</td>\n",
       "      <td>256.09</td>\n",
       "      <td>Cloned 5thgeneration orchestration</td>\n",
       "      <td>Wrightburgh</td>\n",
       "      <td>0</td>\n",
       "      <td>Tunisia</td>\n",
       "      <td>2016-03-27 00:53:11</td>\n",
       "      <td>0</td>\n",
       "    </tr>\n",
       "    <tr>\n",
       "      <th>1</th>\n",
       "      <td>80.23</td>\n",
       "      <td>31</td>\n",
       "      <td>68441.85</td>\n",
       "      <td>193.77</td>\n",
       "      <td>Monitored national standardization</td>\n",
       "      <td>West Jodi</td>\n",
       "      <td>1</td>\n",
       "      <td>Nauru</td>\n",
       "      <td>2016-04-04 01:39:02</td>\n",
       "      <td>0</td>\n",
       "    </tr>\n",
       "    <tr>\n",
       "      <th>2</th>\n",
       "      <td>69.47</td>\n",
       "      <td>26</td>\n",
       "      <td>59785.94</td>\n",
       "      <td>236.50</td>\n",
       "      <td>Organic bottom-line service-desk</td>\n",
       "      <td>Davidton</td>\n",
       "      <td>0</td>\n",
       "      <td>San Marino</td>\n",
       "      <td>2016-03-13 20:35:42</td>\n",
       "      <td>0</td>\n",
       "    </tr>\n",
       "    <tr>\n",
       "      <th>3</th>\n",
       "      <td>74.15</td>\n",
       "      <td>29</td>\n",
       "      <td>54806.18</td>\n",
       "      <td>245.89</td>\n",
       "      <td>Triple-buffered reciprocal time-frame</td>\n",
       "      <td>West Terrifurt</td>\n",
       "      <td>1</td>\n",
       "      <td>Italy</td>\n",
       "      <td>2016-01-10 02:31:19</td>\n",
       "      <td>0</td>\n",
       "    </tr>\n",
       "    <tr>\n",
       "      <th>4</th>\n",
       "      <td>68.37</td>\n",
       "      <td>35</td>\n",
       "      <td>73889.99</td>\n",
       "      <td>225.58</td>\n",
       "      <td>Robust logistical utilization</td>\n",
       "      <td>South Manuel</td>\n",
       "      <td>0</td>\n",
       "      <td>Iceland</td>\n",
       "      <td>2016-06-03 03:36:18</td>\n",
       "      <td>0</td>\n",
       "    </tr>\n",
       "  </tbody>\n",
       "</table>\n",
       "</div>"
      ],
      "text/plain": [
       "   Daily Time Spent on Site  Age  Area Income  Daily Internet Usage  \\\n",
       "0                     68.95   35     61833.90                256.09   \n",
       "1                     80.23   31     68441.85                193.77   \n",
       "2                     69.47   26     59785.94                236.50   \n",
       "3                     74.15   29     54806.18                245.89   \n",
       "4                     68.37   35     73889.99                225.58   \n",
       "\n",
       "                           Ad Topic Line            City  Male     Country  \\\n",
       "0     Cloned 5thgeneration orchestration     Wrightburgh     0     Tunisia   \n",
       "1     Monitored national standardization       West Jodi     1       Nauru   \n",
       "2       Organic bottom-line service-desk        Davidton     0  San Marino   \n",
       "3  Triple-buffered reciprocal time-frame  West Terrifurt     1       Italy   \n",
       "4          Robust logistical utilization    South Manuel     0     Iceland   \n",
       "\n",
       "             Timestamp  Clicked on Ad  \n",
       "0  2016-03-27 00:53:11              0  \n",
       "1  2016-04-04 01:39:02              0  \n",
       "2  2016-03-13 20:35:42              0  \n",
       "3  2016-01-10 02:31:19              0  \n",
       "4  2016-06-03 03:36:18              0  "
      ]
     },
     "execution_count": 209,
     "metadata": {},
     "output_type": "execute_result"
    }
   ],
   "source": [
    "# Set private API key\n",
    "openai.api_key = (os.getenv('OPENAI_KEY'))\n",
    "URL = \"https://api.openai.com/v1/completions\n",
    "\n",
    "# Set message text\n",
    "messages = [\n",
    "    {\"role\": \"system\", \"content\": \"You are a professional marketing assistant.\"},\n",
    "]\n",
    "\n",
    "# Set data which will inlfuence model \n",
    "df = pd.read_csv('advertising.csv')\n",
    "df.head()"
   ]
  },
  {
   "cell_type": "code",
   "execution_count": 216,
   "id": "99ca0a5d",
   "metadata": {},
   "outputs": [
    {
     "data": {
      "image/png": "[encoded data removed]",
      "text/plain": [
       "<Figure size 432x288 with 1 Axes>"
      ]
     },
     "metadata": {
      "needs_background": "light"
     },
     "output_type": "display_data"
    },
    {
     "data": {
      "image/png": "[encoded data removed]",
      "text/plain": [
       "<Figure size 432x288 with 1 Axes>"
      ]
     },
     "metadata": {
      "needs_background": "light"
     },
     "output_type": "display_data"
    }
   ],
   "source": [
    "# OPTIONAL\n",
    "# Examine Data for any patterns\n",
    "df.plot(x='Daily Internet Usage', y='Daily Time Spent on Site', kind='scatter')\n",
    "df.plot(x='Age', y='Area Income', kind='scatter')\n",
    "plt.show()"
   ]
  },
  {
   "cell_type": "code",
   "execution_count": 201,
   "id": "04b2fad3",
   "metadata": {},
   "outputs": [
    {
     "name": "stdout",
     "output_type": "stream",
     "text": [
      "1621\n"
     ]
    }
   ],
   "source": [
    "# Clean data\n",
    "clean_df = df.drop(df.columns[[0,1,2,3,5,6,7,8]], axis = 1)\n",
    "clean_df = clean_df.iloc[1: , :]\n",
    "\n",
    "# Set up the prompt using the headlines in the CSV file\n",
    "prompt = \"Generate a new marketing email headline based on the following successful and unsuccessful examples:\\n\\n\"\n",
    "\n",
    "for idx in clean_df.index:\n",
    "    if ((clean_df['Clicked on Ad'][idx] == 1) and (len(prompt.split()) < 1800)):\n",
    "        prompt += clean_df['Ad Topic Line'][idx] + \"\\n\"\n",
    "    #else:\n",
    "        #prompt += \"- Unsuccessful: \" + clean_df['Ad Topic Line'][idx] + \"\\n\" "
   ]
  },
  {
   "cell_type": "code",
   "execution_count": 221,
   "id": "2c51b0f6",
   "metadata": {},
   "outputs": [],
   "source": [
    "# Email Topic Line Generation Model\n",
    "# Uses payloads to pull responses\n",
    "\n",
    "# temperature is \"Randomness\"\n",
    "# top_p dictates how common of words are considered\n",
    "# e.g., top_p:0.3 means that only the tokens comprising the top 30% probability mass are considered\n",
    "\n",
    "payload = {\n",
    "\"model\": \"text-davinci-003\",\n",
    "\"prompt\": prompt,\n",
    "\"max_tokens\": 20,\n",
    "\"temperature\" : 1.0,\n",
    "\"top_p\":1.0,\n",
    "\"n\" : 10,\n",
    "\"stream\": False,\n",
    "\"presence_penalty\":0,\n",
    "\"frequency_penalty\":0,\n",
    "}\n",
    "\n",
    "headers = {\n",
    "\"Content-Type\": \"application/json\",\n",
    "\"Authorization\": f\"Bearer {openai.api_key}\"\n",
    "}\n",
    "\n",
    "response = requests.post(URL, headers=headers, json=payload, stream=False)\n",
    "a = response.json()\n",
    "\n",
    "# Prints the entire payload output\n",
    "# response.content"
   ]
  },
  {
   "cell_type": "code",
   "execution_count": 222,
   "id": "dc0d5ba8",
   "metadata": {},
   "outputs": [
    {
     "name": "stdout",
     "output_type": "stream",
     "text": [
      "Open-source methodical encryption\n",
      "Agile background intranet\n",
      "Intuitive composite info-medi\n",
      "\n",
      "Open-architected client-server access\n",
      "Reactive foresight-oriented Graphical User Interface\n",
      "\n",
      "Compatible didactic standardization\n",
      "Dynamic secure installation\n",
      "Optimized mission-critical instruction set\n",
      "\n",
      "\n",
      "Business-focused overarching asset\n",
      "Diverse executive concept\n",
      "Organic didactic integration\n",
      "Integrated user\n",
      "\n",
      "Protected uniform service-desk\n",
      "Advanced system-worthy forecast\n",
      "Centralized dynamic encryption\n",
      "Up\n",
      "\n",
      "Parallel even-keeled extranet\n",
      "Robust inverted definition\n",
      "Reverse-engine\n",
      "\n",
      "Adaptive 5thgeneration model\n",
      "Open-architected content-based supervision\n",
      "Optimized\n",
      "\n",
      "Synchronized user-facing definition\n",
      "Ergonomic client-server infrastructure\n",
      "Optimized dis\n",
      "\n",
      "Function-based systematic definition\n",
      "Phased disintermediate algorithm\n",
      "Multi-tiered system-worthy\n",
      "\n",
      "Re-engineered even-keeled analyzer\n",
      "Ergonomic 4thgeneration user interface\n",
      "\n",
      "\n"
     ]
    }
   ],
   "source": [
    "# Print 10 formatted sample headers from output json file\n",
    "for i in range(10):\n",
    "    print((a[\"choices\"][i][\"text\"]) + \"\\n\")"
   ]
  },
  {
   "cell_type": "code",
   "execution_count": 225,
   "id": "c08dfd8a",
   "metadata": {},
   "outputs": [
    {
     "name": "stdout",
     "output_type": "stream",
     "text": [
      "Generation prompt : \n"
     ]
    }
   ],
   "source": [
    "# Email Body Generation Model\n",
    "message = input(\"Generation prompt : \")\n",
    "if message:\n",
    "    message = \"Generate a long promotional advertisement email with the topic line:\" + message\n",
    "else:\n",
    "    message = \"Generate a long promotional advertisement email for the new laptop from QWERTY Studios, the FlipBook S.\"\n",
    "\n",
    "payload = {\n",
    "\"model\": \"text-davinci-003\",\n",
    "\"prompt\": message,\n",
    "\"suffix\": \"Thank you for being a proud subscriber.\",\n",
    "\"max_tokens\": 2048,\n",
    "\"temperature\" : 1.0,\n",
    "\"top_p\":0,\n",
    "\"n\" : 1,\n",
    "\"stream\": False,\n",
    "\"presence_penalty\":0,\n",
    "\"frequency_penalty\":0,\n",
    "}\n",
    "\n",
    "headers = {\n",
    "\"Content-Type\": \"application/json\",\n",
    "\"Authorization\": f\"Bearer {openai.api_key}\"\n",
    "}\n",
    "\n",
    "response = requests.post(URL, headers=headers, json=payload, stream=False)\n",
    "a = response.json()"
   ]
  },
  {
   "cell_type": "code",
   "execution_count": 227,
   "id": "6c9616fb",
   "metadata": {
    "scrolled": true
   },
   "outputs": [
    {
     "name": "stdout",
     "output_type": "stream",
     "text": [
      "\n",
      "\n",
      "Dear Valued Subscriber,\n",
      "\n",
      "We are proud to announce the launch of the FlipBook S, the latest laptop from QWERTY Studios. This sleek and powerful laptop is designed to meet the needs of today's modern user.\n",
      "\n",
      "The FlipBook S is packed with features that make it the perfect choice for work, play, and everything in between. It has a powerful Intel Core i7 processor, 8GB of RAM, and a 256GB SSD for lightning-fast performance. The 15.6\" Full HD display is perfect for watching movies, playing games, and editing photos. And with its long-lasting battery, you can stay productive all day long.\n",
      "\n",
      "The FlipBook S also comes with a range of ports, including USB-C, HDMI, and a microSD card reader. Plus, it has a built-in webcam and microphone for video conferencing and streaming. And with its lightweight design, you can take it with you wherever you go.\n",
      "\n",
      "We are confident that the FlipBook S will exceed your expectations. So don't wait any longer - get your hands on the FlipBook S today and experience the power of QWERTY Studios. \n"
     ]
    }
   ],
   "source": [
    "print(a[\"choices\"][0][\"text\"])"
   ]
  },
  {
   "cell_type": "code",
   "execution_count": null,
   "id": "b03ef082",
   "metadata": {},
   "outputs": [],
   "source": []
  }
 ],
 "metadata": {
  "kernelspec": {
   "display_name": "Python 3 (ipykernel)",
   "language": "python",
   "name": "python3"
  },
  "language_info": {
   "codemirror_mode": {
    "name": "ipython",
    "version": 3
   },
   "file_extension": ".py",
   "mimetype": "text/x-python",
   "name": "python",
   "nbconvert_exporter": "python",
   "pygments_lexer": "ipython3",
   "version": "3.9.7"
  }
 },
 "nbformat": 4,
 "nbformat_minor": 5
}
